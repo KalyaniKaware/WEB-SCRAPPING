{
 "cells": [
  {
   "cell_type": "markdown",
   "metadata": {},
   "source": [
    "**import packages**"
   ]
  },
  {
   "cell_type": "code",
   "execution_count": 1,
   "metadata": {},
   "outputs": [],
   "source": [
    "from bs4 import BeautifulSoup\n",
    "import pandas as pd\n",
    "import requests"
   ]
  },
  {
   "cell_type": "markdown",
   "metadata": {},
   "source": [
    "**Use bs4 and get data**"
   ]
  },
  {
   "cell_type": "code",
   "execution_count": 2,
   "metadata": {},
   "outputs": [],
   "source": [
    "url = 'https://www.ncbi.nlm.nih.gov/pmc/articles/PMC4462044/table/T2/?report=objectonly'\n",
    "r = requests.get(url)\n",
    "soup = BeautifulSoup(r.text)"
   ]
  },
  {
   "cell_type": "markdown",
   "metadata": {},
   "source": [
    "**read_html returns a list of dataframe**"
   ]
  },
  {
   "cell_type": "code",
   "execution_count": 3,
   "metadata": {},
   "outputs": [],
   "source": [
    "table = soup.find(\"table\", { \"class\" : \"rendered small default_table\" })\n",
    "df = pd.read_html(str(table)) #Read HTML tables into a list of DataFrame objects.\n",
    "table_data = df[0] "
   ]
  },
  {
   "cell_type": "markdown",
   "metadata": {},
   "source": [
    "**Define *snip* function**"
   ]
  },
  {
   "cell_type": "code",
   "execution_count": 4,
   "metadata": {
    "scrolled": true
   },
   "outputs": [],
   "source": [
    "def snip(J):\n",
    "    str1=''\n",
    "    for i in J:\n",
    "        if i != ' ':\n",
    "            str1+=i\n",
    "        else:\n",
    "            break\n",
    "    return(str1)\n",
    "#table_data['Total Caffeine (in mg)'][0]"
   ]
  },
  {
   "cell_type": "code",
   "execution_count": 20,
   "metadata": {
    "scrolled": false
   },
   "outputs": [],
   "source": [
    "for index, row in table_data.iterrows():\n",
    "    table_data.loc[index,'Num']=int(snip(table_data.loc[index,'Total Caffeine (in mg)']))"
   ]
  },
  {
   "cell_type": "code",
   "execution_count": 18,
   "metadata": {},
   "outputs": [
    {
     "data": {
      "text/html": [
       "<div>\n",
       "<style scoped>\n",
       "    .dataframe tbody tr th:only-of-type {\n",
       "        vertical-align: middle;\n",
       "    }\n",
       "\n",
       "    .dataframe tbody tr th {\n",
       "        vertical-align: top;\n",
       "    }\n",
       "\n",
       "    .dataframe thead th {\n",
       "        text-align: right;\n",
       "    }\n",
       "</style>\n",
       "<table border=\"1\" class=\"dataframe\">\n",
       "  <thead>\n",
       "    <tr style=\"text-align: right;\">\n",
       "      <th></th>\n",
       "      <th>Servings per day</th>\n",
       "      <th>Item</th>\n",
       "      <th>Total Caffeine (in mg)</th>\n",
       "      <th>Num</th>\n",
       "    </tr>\n",
       "  </thead>\n",
       "  <tbody>\n",
       "    <tr>\n",
       "      <th>0</th>\n",
       "      <td>Coffee (180 ml cup)</td>\n",
       "      <td>Drip brewed</td>\n",
       "      <td>100 mg per 180 ml</td>\n",
       "      <td>100</td>\n",
       "    </tr>\n",
       "    <tr>\n",
       "      <th>1</th>\n",
       "      <td>Coffee (180 ml cup)</td>\n",
       "      <td>Percolated</td>\n",
       "      <td>120 mg per 180 ml</td>\n",
       "      <td>120</td>\n",
       "    </tr>\n",
       "    <tr>\n",
       "      <th>2</th>\n",
       "      <td>Coffee (180 ml cup)</td>\n",
       "      <td>Instant</td>\n",
       "      <td>90 mg. per 180 ml</td>\n",
       "      <td>90</td>\n",
       "    </tr>\n",
       "    <tr>\n",
       "      <th>3</th>\n",
       "      <td>Coffee (180 ml cup)</td>\n",
       "      <td>Brewed decaffeinated</td>\n",
       "      <td>5 mg per 180 ml</td>\n",
       "      <td>5</td>\n",
       "    </tr>\n",
       "    <tr>\n",
       "      <th>4</th>\n",
       "      <td>Coffee (180 ml cup)</td>\n",
       "      <td>Instant decaffeinated</td>\n",
       "      <td>3 mg per 180 ml</td>\n",
       "      <td>3</td>\n",
       "    </tr>\n",
       "  </tbody>\n",
       "</table>\n",
       "</div>"
      ],
      "text/plain": [
       "      Servings per day                   Item Total Caffeine (in mg)  Num\n",
       "0  Coffee (180 ml cup)            Drip brewed      100 mg per 180 ml  100\n",
       "1  Coffee (180 ml cup)             Percolated      120 mg per 180 ml  120\n",
       "2  Coffee (180 ml cup)                Instant      90 mg. per 180 ml   90\n",
       "3  Coffee (180 ml cup)   Brewed decaffeinated        5 mg per 180 ml    5\n",
       "4  Coffee (180 ml cup)  Instant decaffeinated        3 mg per 180 ml    3"
      ]
     },
     "execution_count": 18,
     "metadata": {},
     "output_type": "execute_result"
    }
   ],
   "source": [
    "table_data.head()"
   ]
  },
  {
   "cell_type": "markdown",
   "metadata": {},
   "source": [
    "**Write df to excel**\n",
    "from openpyxl import Workbook\n",
    "Therefore, openpyxl has been installed usinf pip"
   ]
  },
  {
   "cell_type": "code",
   "execution_count": 17,
   "metadata": {},
   "outputs": [],
   "source": [
    "table_data.to_excel(r\"C:\\Users\\kalya\\OneDrive\\Documents\\Caffine project\\datasheet.xlsx\")"
   ]
  }
 ],
 "metadata": {
  "kernelspec": {
   "display_name": "Python 3",
   "language": "python",
   "name": "python3"
  },
  "language_info": {
   "codemirror_mode": {
    "name": "ipython",
    "version": 3
   },
   "file_extension": ".py",
   "mimetype": "text/x-python",
   "name": "python",
   "nbconvert_exporter": "python",
   "pygments_lexer": "ipython3",
   "version": "3.7.0"
  }
 },
 "nbformat": 4,
 "nbformat_minor": 2
}
