{
 "cells": [
  {
   "cell_type": "code",
   "execution_count": 14,
   "metadata": {},
   "outputs": [
    {
     "name": "stdout",
     "output_type": "stream",
     "text": [
      "#A\n",
      "../data/tmy3/702746TYA.CSV\n",
      "../data/tmy3/703407TYA.CSV\n",
      "../data/tmy3/722800TYA.CSV\n",
      "../data/tmy3/725910TYA.CSV\n",
      "../data/tmy3/724665TYA.CSV\n",
      "../data/tmy3/722223TYA.CSV\n",
      "../data/tmy3/911905TYA.CSV\n",
      "../data/tmy3/725350TYA.CSV\n",
      "../data/tmy3/724550TYA.CSV\n",
      "../data/tmy3/722329TYA.CSV\n",
      "../data/tmy3/726355TYA.CSV\n",
      "../data/tmy3/727505TYA.CSV\n",
      "#Top\n",
      "../data/tmy3/725525TYA.CSV\n",
      "../data/tmy3/723650TYA.CSV\n",
      "../data/tmy3/746943TYA.CSV\n",
      "../data/tmy3/723550TYA.CSV\n",
      "../data/tmy3/725200TYA.CSV\n",
      "../data/tmy3/723183TYA.CSV\n",
      "../data/tmy3/722446TYA.CSV\n",
      "../data/tmy3/724016TYA.CSV\n",
      "../data/tmy3/727937TYA.CSV\n",
      "../data/tmy3/725640TYA.CSV\n"
     ]
    }
   ],
   "source": [
    "from bs4 import BeautifulSoup\n",
    "import requests\n",
    "import pandas as pd\n",
    "import matplotlib.pyplot as plt\n",
    "missing_url=\"https://rredc.nrel.gov/solar/old_data/nsrdb/1991-2005\"\n",
    "url=\"https://rredc.nrel.gov/solar/old_data/nsrdb/1991-2005/tmy3/by_state_and_city.html\"\n",
    "r=requests.get(url)\n",
    "html_data = r.text\n",
    "data_soup = BeautifulSoup(html_data,'html.parser')\n",
    "#data_soup.prettify()\n",
    "TMY = pd.DataFrame()\n",
    "for link in data_soup.find_all('a')[::50]:\n",
    "    temp=link.get('href')\n",
    "    print(temp)\n",
    "    if temp is None:\n",
    "        pass #few a's do not have hrefs\n",
    "    elif(\".CSV\" in temp):\n",
    "        df=pd.read_csv(missing_url+temp[2:],header=[1])\n",
    "        df1=pd.read_csv(missing_url+temp[2:],nrows=1)\n",
    "        df['Site identifier code']=df1.columns[0]\n",
    "        df['Station name']=df1.columns[1]\n",
    "        df['Station state']=df1.columns[2]\n",
    "        df['Site latitude']=df1.columns[4]\n",
    "        df['Site longitude']=df1.columns[5]\n",
    "        df['Site elevation']=df1.columns[6]\n",
    "        TMY=TMY.append(df,ignore_index=True)\n",
    "TMY.to_pickle(r\"C:\\Users\\kalya\\Desktop\\jupyter\\TMY3_datafile.pkl\") #converts normal string to raw string"
   ]
  },
  {
   "cell_type": "code",
   "execution_count": null,
   "metadata": {},
   "outputs": [],
   "source": []
  }
 ],
 "metadata": {
  "kernelspec": {
   "display_name": "Python 3",
   "language": "python",
   "name": "python3"
  },
  "language_info": {
   "codemirror_mode": {
    "name": "ipython",
    "version": 3
   },
   "file_extension": ".py",
   "mimetype": "text/x-python",
   "name": "python",
   "nbconvert_exporter": "python",
   "pygments_lexer": "ipython3",
   "version": "3.7.0"
  }
 },
 "nbformat": 4,
 "nbformat_minor": 2
}
